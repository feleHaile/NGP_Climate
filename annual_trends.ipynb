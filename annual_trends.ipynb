{
 "cells": [
  {
   "cell_type": "code",
   "execution_count": null,
   "metadata": {},
   "outputs": [],
   "source": [
    "\n",
    "import xarray as xr\n",
    "import numpy as np\n",
    "import pandas as pd\n",
    "import matplotlib.pyplot as plt\n",
    "#import netCDF4\n",
    "from scipy import stats\n",
    "import statsmodels.api as sm\n",
    "import cartopy.crs as ccrs\n",
    "import cartopy.feature as cfeature\n",
    "import sys\n",
    "from mpl_toolkits.axes_grid1 import make_axes_locatable\n",
    "sys.path.append('/Users/gbromley/Dropbox/code/python_utilities/')\n",
    "from python_data_functions import extract_months\n",
    "from python_met_functions import sat_vap_pres\n",
    "from python_data_functions import mk_test\n",
    "from cartopy.io.shapereader import Reader\n",
    "from cartopy.feature import ShapelyFeature\n",
    "from mpl_toolkits.axes_grid.anchored_artists import AnchoredText\n"
   ]
  }
 ],
 "metadata": {
  "kernelspec": {
   "display_name": "Python [conda env:paper1_research]",
   "language": "python",
   "name": "conda-env-paper1_research-py"
  },
  "language_info": {
   "codemirror_mode": {
    "name": "ipython",
    "version": 3
   },
   "file_extension": ".py",
   "mimetype": "text/x-python",
   "name": "python",
   "nbconvert_exporter": "python",
   "pygments_lexer": "ipython3",
   "version": "3.6.4"
  }
 },
 "nbformat": 4,
 "nbformat_minor": 2
}
