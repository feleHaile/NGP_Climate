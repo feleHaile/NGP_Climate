{
 "cells": [
  {
   "cell_type": "code",
   "execution_count": 1,
   "metadata": {},
   "outputs": [
    {
     "name": "stderr",
     "output_type": "stream",
     "text": [
      "/Users/gbromley/anaconda3/envs/paper1_research/lib/python3.6/site-packages/statsmodels/compat/pandas.py:56: FutureWarning: The pandas.core.datetools module is deprecated and will be removed in a future version. Please use the pandas.tseries module instead.\n",
      "  from pandas.core import datetools\n"
     ]
    }
   ],
   "source": [
    "%matplotlib inline\n",
    "import xarray as xr\n",
    "import numpy as np\n",
    "import pandas as pd\n",
    "import matplotlib.pyplot as plt\n",
    "#import netCDF4\n",
    "from scipy import stats\n",
    "import statsmodels.api as sm\n",
    "import cartopy.crs as ccrs\n",
    "import cartopy.feature as cfeature\n",
    "import glob"
   ]
  },
  {
   "cell_type": "code",
   "execution_count": 2,
   "metadata": {},
   "outputs": [],
   "source": [
    "data_dir = '/Users/gbromley/data/NGP_Stations/nc_files/'"
   ]
  },
  {
   "cell_type": "code",
   "execution_count": 3,
   "metadata": {},
   "outputs": [],
   "source": [
    "start_dates = []\n",
    "end_dates = []\n",
    "for file in glob.glob(data_dir+'*.nc'):\n",
    "    data = xr.open_dataset(file)\n",
    "    start_dates.append(data['index'][0].values)\n",
    "    end_dates.append(data['index'][-1].values)\n",
    "    "
   ]
  },
  {
   "cell_type": "code",
   "execution_count": 4,
   "metadata": {},
   "outputs": [],
   "source": [
    "dates = pd.date_range(min(start_dates),max(end_dates), freq='D')\n",
    "\n",
    "fake_data = np.empty([len(dates),1])\n",
    "fake_data.fill(np.nan)\n",
    "\n",
    "\n",
    "station = ('station',['fake_station'])\n",
    "\n",
    "\n",
    "\n",
    "ds = xr.Dataset({'tmax': (['time','station'],  fake_data),\n",
    "                'precip': (['time','station'], fake_data),\n",
    "                'tmin': (['time','station'],  fake_data)},\n",
    "                coords={'time': dates})\n",
    "\n",
    "ds.coords['station'] = station"
   ]
  },
  {
   "cell_type": "code",
   "execution_count": 6,
   "metadata": {},
   "outputs": [
    {
     "name": "stderr",
     "output_type": "stream",
     "text": [
      "/Users/gbromley/anaconda3/envs/paper1_research/lib/python3.6/site-packages/xarray/core/dtypes.py:23: FutureWarning: Conversion of the second argument of issubdtype from `float` to `np.floating` is deprecated. In future, it will be treated as `np.float64 == np.dtype(float).type`.\n",
      "  if np.issubdtype(dtype, float):\n"
     ]
    }
   ],
   "source": [
    "for file in glob.glob(data_dir+'*.nc'):\n",
    "    data = xr.open_dataset(file)\n",
    "    data = data.rename({'index':'time'})\n",
    "    ds = xr.concat([ds,data],dim='station')"
   ]
  },
  {
   "cell_type": "code",
   "execution_count": 8,
   "metadata": {},
   "outputs": [],
   "source": [
    "ds.to_netcdf('~gbromley/data/ghcn_data.nc')"
   ]
  },
  {
   "cell_type": "code",
   "execution_count": null,
   "metadata": {},
   "outputs": [],
   "source": []
  }
 ],
 "metadata": {
  "kernelspec": {
   "display_name": "Python 3",
   "language": "python",
   "name": "python3"
  },
  "language_info": {
   "codemirror_mode": {
    "name": "ipython",
    "version": 3
   },
   "file_extension": ".py",
   "mimetype": "text/x-python",
   "name": "python",
   "nbconvert_exporter": "python",
   "pygments_lexer": "ipython3",
   "version": "3.6.4"
  }
 },
 "nbformat": 4,
 "nbformat_minor": 2
}
