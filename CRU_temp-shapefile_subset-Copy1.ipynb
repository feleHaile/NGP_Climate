{
 "cells": [
  {
   "cell_type": "code",
   "execution_count": 1,
   "metadata": {
    "collapsed": false,
    "deletable": true,
    "editable": true
   },
   "outputs": [],
   "source": [
    "%matplotlib inline\n",
    "import xarray as xr\n",
    "import numpy as np\n",
    "import pandas as pd\n",
    "#import seaborn as sns\n",
    "import matplotlib.pyplot as plt\n",
    "#import netCDF4\n",
    "#from scipy import stats\n",
    "#import cartopy.crs as ccrs\n",
    "#import cartopy.feature as cfeature\n",
    "import sys\n",
    "sys.path.append('/Users/gbromley/code/python_utilities/')\n",
    "from python_data_functions import extract_months\n",
    "#import shapely as sp"
   ]
  },
  {
   "cell_type": "code",
   "execution_count": 3,
   "metadata": {
    "collapsed": false,
    "deletable": true,
    "editable": true
   },
   "outputs": [
    {
     "ename": "ImportError",
     "evalue": "No module named 'fiona'",
     "output_type": "error",
     "traceback": [
      "\u001b[0;31m---------------------------------------------------------------------------\u001b[0m",
      "\u001b[0;31mImportError\u001b[0m                               Traceback (most recent call last)",
      "\u001b[0;32m<ipython-input-3-97e36802fd60>\u001b[0m in \u001b[0;36m<module>\u001b[0;34m()\u001b[0m\n\u001b[1;32m      2\u001b[0m \u001b[0;32mfrom\u001b[0m \u001b[0mshapely\u001b[0m\u001b[0;34m.\u001b[0m\u001b[0mgeometry\u001b[0m \u001b[0;32mimport\u001b[0m \u001b[0mPoint\u001b[0m\u001b[0;34m\u001b[0m\u001b[0m\n\u001b[1;32m      3\u001b[0m \u001b[0;31m#import ogr, gdal\u001b[0m\u001b[0;34m\u001b[0m\u001b[0;34m\u001b[0m\u001b[0m\n\u001b[0;32m----> 4\u001b[0;31m \u001b[0;32mimport\u001b[0m \u001b[0mfiona\u001b[0m\u001b[0;34m\u001b[0m\u001b[0m\n\u001b[0m",
      "\u001b[0;31mImportError\u001b[0m: No module named 'fiona'"
     ]
    }
   ],
   "source": [
    "import geopandas as gp\n",
    "from shapely.geometry import Point\n",
    "#import ogr, gdal\n",
    "import fiona"
   ]
  },
  {
   "cell_type": "code",
   "execution_count": 4,
   "metadata": {
    "collapsed": false,
    "deletable": true,
    "editable": true
   },
   "outputs": [],
   "source": [
    "data_dir = '/Users/gbromley/data/CRU/tmp/'\n",
    "temp_file = 'cru_ts3.24.1901.2015.tmp.dat.nc'\n",
    "\n",
    "nc_temp = xr.open_dataset(data_dir+temp_file)"
   ]
  },
  {
   "cell_type": "code",
   "execution_count": 5,
   "metadata": {
    "collapsed": false,
    "deletable": true,
    "editable": true
   },
   "outputs": [],
   "source": [
    "t2m = nc_temp['tmp']"
   ]
  },
  {
   "cell_type": "code",
   "execution_count": 6,
   "metadata": {
    "collapsed": false,
    "deletable": true,
    "editable": true
   },
   "outputs": [
    {
     "data": {
      "text/plain": [
       "<xarray.DataArray 'tmp' (time: 1380, lat: 360, lon: 720)>\n",
       "[357696000 values with dtype=float64]\n",
       "Coordinates:\n",
       "  * lon      (lon) float64 -179.8 -179.2 -178.8 -178.2 -177.8 -177.2 -176.8 ...\n",
       "  * lat      (lat) float64 -89.75 -89.25 -88.75 -88.25 -87.75 -87.25 -86.75 ...\n",
       "  * time     (time) datetime64[ns] 1901-01-16 1901-02-15 1901-03-16 ...\n",
       "Attributes:\n",
       "    long_name: near-surface temperature\n",
       "    units: degrees Celsius\n",
       "    correlation_decay_distance: 1200.0"
      ]
     },
     "execution_count": 6,
     "metadata": {},
     "output_type": "execute_result"
    }
   ],
   "source": [
    "t2m"
   ]
  },
  {
   "cell_type": "code",
   "execution_count": null,
   "metadata": {
    "collapsed": false,
    "deletable": true,
    "editable": true
   },
   "outputs": [],
   "source": [
    "df = pd.DataFrame(t2m['lon'].values,t2m['lat'].values)"
   ]
  },
  {
   "cell_type": "code",
   "execution_count": null,
   "metadata": {
    "collapsed": false,
    "deletable": true,
    "editable": true
   },
   "outputs": [],
   "source": [
    "t_season='MJJ'\n",
    "t_months=[5,6,7]\n",
    "start_year = '1970-01-01'\n",
    "end_year = '2010-12-01'\n",
    "ext_e = -90\n",
    "ext_w = -120\n",
    "ext_n = 55\n",
    "ext_s = 30\n"
   ]
  },
  {
   "cell_type": "code",
   "execution_count": 7,
   "metadata": {
    "collapsed": true,
    "deletable": true,
    "editable": true
   },
   "outputs": [],
   "source": [
    " test = gp.read_file('/Users/gbromley/Dropbox/EPSCOR-TrackII/Data/GIS_Boundaries/WAFER_Boundary.shp')"
   ]
  },
  {
   "cell_type": "code",
   "execution_count": 12,
   "metadata": {
    "collapsed": false,
    "deletable": true,
    "editable": true
   },
   "outputs": [
    {
     "data": {
      "text/plain": [
       "{'init': u'epsg:26713'}"
      ]
     },
     "execution_count": 12,
     "metadata": {},
     "output_type": "execute_result"
    }
   ],
   "source": [
    "test.crs"
   ]
  },
  {
   "cell_type": "code",
   "execution_count": null,
   "metadata": {
    "collapsed": true,
    "deletable": true,
    "editable": true
   },
   "outputs": [],
   "source": [
    "test_t2m = t2m.isel(time=0).to_pandas()"
   ]
  },
  {
   "cell_type": "code",
   "execution_count": null,
   "metadata": {
    "collapsed": false,
    "deletable": true,
    "editable": true
   },
   "outputs": [],
   "source": [
    "test_t2m = pd.DataFrame(test_t2m)"
   ]
  },
  {
   "cell_type": "code",
   "execution_count": null,
   "metadata": {
    "collapsed": false,
    "deletable": true,
    "editable": true
   },
   "outputs": [],
   "source": [
    "test_t2m"
   ]
  },
  {
   "cell_type": "code",
   "execution_count": null,
   "metadata": {
    "collapsed": false,
    "deletable": true,
    "editable": true
   },
   "outputs": [],
   "source": [
    "test_t2m['geometry'] = test_t2m.apply(lambda x: Point((float(t2m['lon'].values), float(t2m['lat'].values))), axis=1)\n"
   ]
  },
  {
   "cell_type": "code",
   "execution_count": null,
   "metadata": {
    "collapsed": false,
    "deletable": true,
    "editable": true
   },
   "outputs": [],
   "source": [
    "t2m['lat'].values"
   ]
  },
  {
   "cell_type": "code",
   "execution_count": null,
   "metadata": {
    "collapsed": false,
    "deletable": true,
    "editable": true
   },
   "outputs": [],
   "source": [
    "res_intersection = gp.overlay(test, test_t2m, how='intersection')\n"
   ]
  },
  {
   "cell_type": "code",
   "execution_count": 2,
   "metadata": {
    "collapsed": false,
    "deletable": true,
    "editable": true
   },
   "outputs": [],
   "source": [
    "from rasterio import features\n",
    "from affine import Affine\n",
    "\n",
    "def transform_from_latlon(lat, lon):\n",
    "    lat = np.asarray(lat)\n",
    "    lon = np.asarray(lon)\n",
    "    trans = Affine.translation(lon[0], lat[0])\n",
    "    scale = Affine.scale(lon[1] - lon[0], lat[1] - lat[0])\n",
    "    return trans * scale\n",
    "\n",
    "def rasterize(shapes, coords, fill=np.nan, **kwargs):\n",
    "    \"\"\"Rasterize a list of (geometry, fill_value) tuples onto the given\n",
    "    xray coordinates. This only works for 1d latitude and longitude\n",
    "    arrays.\n",
    "    \"\"\"\n",
    "    transform = transform_from_latlon(coords['latitude'], coords['longitude'])\n",
    "    out_shape = (len(coords['latitude']), len(coords['longitude']))\n",
    "    raster = features.rasterize(shapes, out_shape=out_shape,\n",
    "                                fill=fill, transform=transform,\n",
    "                                dtype=float, **kwargs)\n",
    "    return xray.DataArray(raster, coords=coords, dims=('latitude', 'longitude'))\n"
   ]
  },
  {
   "cell_type": "code",
   "execution_count": null,
   "metadata": {
    "collapsed": false,
    "deletable": true,
    "editable": true
   },
   "outputs": [],
   "source": [
    "#extract the time period we are interested in\n",
    "t2m_slice=t2m.sel(time=slice(start_year,end_year))\n",
    "#grab the months interested in\n",
    "t2m_months = t2m_slice.sel(time=extract_months(t2m_slice['time.month'],t_months[0],t_months[-1]))\n",
    "#create month averages\n",
    "t2m_months_avg = t2m_months.groupby('time.year').mean(dim='time')\n",
    "\n",
    "#extract the 30 yr climate normal times\n",
    "t2m_clim_30= t2m.sel(time=slice('1981-01-01','2010-12-01'))\n",
    "#grab the months\n",
    "t2m_clim_months_30 = t2m_clim_30.sel(time=extract_months(t2m_clim_30['time.month'],t_months[0],t_months[-1]))\n",
    "#create averages over months for climate normal\n",
    "t2m_clim_months_avg = t2m_clim_months_30.mean(dim='time')"
   ]
  },
  {
   "cell_type": "code",
   "execution_count": null,
   "metadata": {
    "collapsed": false,
    "deletable": true,
    "editable": true
   },
   "outputs": [],
   "source": []
  },
  {
   "cell_type": "code",
   "execution_count": null,
   "metadata": {
    "collapsed": true,
    "deletable": true,
    "editable": true
   },
   "outputs": [],
   "source": [
    "#create 2d structure to hold slope\n",
    "spatial_trend = t2m.isel(time=1).copy(deep=True)\n",
    "spatial_trend.name = 't2m_trend'\n",
    "spatial_trend.attrs['units'] = 'C per Decade'\n",
    "spatial_trend.attrs['long_name'] = '2 meter temperature trend'\n",
    "\n",
    "#create 2d structure to hold pvalues\n",
    "pvalues= t2m.isel(time=1).copy(deep=True)\n",
    "pvalues.name = 't2m_trend_pvalues'\n",
    "pvalues.attrs['units'] = 'pvalues'\n",
    "pvalues.attrs['long_name'] = '2 meter temperature trend pvalues'"
   ]
  },
  {
   "cell_type": "code",
   "execution_count": null,
   "metadata": {
    "collapsed": false,
    "deletable": true,
    "editable": true
   },
   "outputs": [],
   "source": [
    "#calculate slope and pvalue for each grid point\n",
    "#replace with a map() call?\n",
    "for i in np.arange(0,len(t2m['lat'])):\n",
    "    for j in np.arange(0,len(t2m['lon'])):\n",
    "        series = t2m_months_avg[:,i,j]\n",
    "        anom = series-t2m_clim_months_avg[i,j]\n",
    "        slope, intercept, r_value, p_value, std_err = stats.linregress(np.arange(0,len(anom)),anom)\n",
    "        spatial_trend[i,j]=slope*10\n",
    "        pvalues[i,j]=p_value\n",
    "        #print(i)"
   ]
  },
  {
   "cell_type": "code",
   "execution_count": null,
   "metadata": {
    "collapsed": true,
    "deletable": true,
    "editable": true
   },
   "outputs": [],
   "source": [
    "spatial_trend.to_dataset().to_netcdf(data_dir+'CRU_tmp_trends_'+t_season+'_'+'1970'+'.nc')\n",
    "pvalues.to_dataset().to_netcdf(data_dir+'CRU_tmp_trends_pvalue'+t_season+'_'+'1970'+'.nc')\n"
   ]
  },
  {
   "cell_type": "code",
   "execution_count": null,
   "metadata": {
    "collapsed": false,
    "deletable": true,
    "editable": true
   },
   "outputs": [],
   "source": [
    "fig, ax = plt.subplots();\n",
    "ax = plt.axes(projection=ccrs.AlbersEqualArea(central_longitude=-111.0,central_latitude=46.0,false_easting=0.0, false_northing=0.0, standard_parallels=(40.0, 50.0), globe=None))\n",
    "ax.set_global()\n",
    "test = spatial_trend.plot.pcolormesh(axes = ax, transform=ccrs.PlateCarree(),vmin=-1, vmax=1, cmap='RdBu_r')\n",
    "#ax = plt.axes(projection=ccrs.LambertConformal())\n",
    "\n",
    "ax.set_extent([ext_e, ext_w, ext_s, ext_n])\n",
    "states_provinces = cfeature.NaturalEarthFeature(\n",
    "    category='cultural',\n",
    "    name='admin_1_states_provinces_lines',\n",
    "    scale='50m',\n",
    "    facecolor='none')\n",
    "ax.add_feature(states_provinces, edgecolor='gray')\n",
    "ax.add_feature(cfeature.COASTLINE)\n",
    "ax.add_feature(cfeature.BORDERS)\n",
    "plt.title('CRU Temperature Trend 1970-2010 '+t_season,fontsize=24)\n",
    "test.colorbar.set_label('$^\\circ$C / Decade',fontsize=18)\n",
    "test.colorbar.ax.tick_params(labelsize=14)\n",
    "fig.set_size_inches(13,7)\n",
    "fig.set_dpi=1200.0\n",
    "#plt.savefig('CRU_temp_'+t_season+'_1970.png',bbox_inches='tight')\n",
    "plt.show()"
   ]
  },
  {
   "cell_type": "code",
   "execution_count": null,
   "metadata": {
    "collapsed": false,
    "deletable": true,
    "editable": true
   },
   "outputs": [],
   "source": [
    "anom_series = t2m_months - t2m_clim_months_avg\n",
    "extent = anom_series.sel(lat=np.arange(ext_s,ext_n,step=.5))\n",
    "extent = extent.sel(lon=np.arange(ext_w+360,ext_e+360,step=.5))\n",
    "extent_series = extent.mean(dim=['lat','lon'])\n",
    "slope, intercept, r_value, p_value, std_err = stats.linregress(np.arange(0,len(extent_series)),extent_series.values)\n",
    "line = slope*np.arange(0,len(extent_series.values))+intercept\n",
    "\n",
    "\n",
    "\n",
    "fig, ax = plt.subplots();\n",
    "plt.scatter(extent_series['year'],extent_series.values, c=extent_series.values,vmin=-3,vmax=2,cmap='RdBu_r',s=30);\n",
    "#trend = ax.plot(anom['time'],line)\n",
    "base = np.zeros(len(extent_series.values))\n",
    "ax.plot(extent_series['year'],base,c='grey')\n",
    "ax.set_title('North America 2m Temperature Anomaly '+t_season+' 1970-2010')\n",
    "ax.set_xlabel('Year')\n",
    "ax.set_ylabel('Temp Anomaly [C]')\n",
    "trend = ax.plot(extent_series['year'],line)\n",
    "#fig.savefig('2m_temp_anom_'+t_season+'_na_sp_1970.png')\n",
    "\n"
   ]
  },
  {
   "cell_type": "code",
   "execution_count": null,
   "metadata": {
    "collapsed": false,
    "deletable": true,
    "editable": true
   },
   "outputs": [],
   "source": [
    "anom_series"
   ]
  },
  {
   "cell_type": "code",
   "execution_count": null,
   "metadata": {
    "collapsed": true,
    "deletable": true,
    "editable": true
   },
   "outputs": [],
   "source": []
  }
 ],
 "metadata": {
  "anaconda-cloud": {},
  "kernelspec": {
   "display_name": "Python [conda root]",
   "language": "python",
   "name": "conda-root-py"
  },
  "language_info": {
   "codemirror_mode": {
    "name": "ipython",
    "version": 3
   },
   "file_extension": ".py",
   "mimetype": "text/x-python",
   "name": "python",
   "nbconvert_exporter": "python",
   "pygments_lexer": "ipython3",
   "version": "3.5.3"
  }
 },
 "nbformat": 4,
 "nbformat_minor": 0
}
