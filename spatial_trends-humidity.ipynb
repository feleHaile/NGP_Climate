{
 "cells": [
  {
   "cell_type": "code",
   "execution_count": 1,
   "metadata": {
    "collapsed": true
   },
   "outputs": [],
   "source": [
    "%matplotlib inline\n",
    "import xarray as xr\n",
    "import numpy as np\n",
    "import pandas as pd\n",
    "import seaborn as sns\n",
    "import matplotlib.pyplot as plt\n",
    "import netCDF4\n",
    "from scipy import stats\n",
    "import cartopy.crs as ccrs\n",
    "import cartopy.feature as cfeature\n",
    "import sys\n",
    "sys.path.append('/Users/gbromley/code/python_utilities/')\n",
    "from python_data_functions import extract_months"
   ]
  },
  {
   "cell_type": "code",
   "execution_count": 2,
   "metadata": {
    "collapsed": true
   },
   "outputs": [],
   "source": [
    "data_dir = '/Volumes/ATLAS/reanalysis/'\n",
    "nc_temp_file = 'NA_2m_temp_1900-2010.nc'\n",
    "nc_dewp_file = 'NA_dwpt_2m_1900-2010.nc'\n",
    "months = pd.date_range('1900-01-01','2010-12-01',freq='MS')"
   ]
  },
  {
   "cell_type": "code",
   "execution_count": 3,
   "metadata": {
    "collapsed": true
   },
   "outputs": [],
   "source": [
    "#load nc file\n",
    "nc_temp = xr.open_dataset(data_dir+nc_temp_file)\n",
    "temp = nc_temp['t2m']\n",
    "\n",
    "nc_dewp = xr.open_dataset(data_dir+nc_dewp_file)\n",
    "dewp = nc_dewp['d2m']"
   ]
  },
  {
   "cell_type": "code",
   "execution_count": 4,
   "metadata": {
    "collapsed": true
   },
   "outputs": [],
   "source": [
    "t_season='MJJ'\n",
    "t_months=[4,5,6]\n",
    "start_year = '1970-01-01'\n",
    "end_year = '2010-12-01'\n",
    "ext_e = -90\n",
    "ext_w = -120\n",
    "ext_n = 55\n",
    "ext_s = 30\n"
   ]
  },
  {
   "cell_type": "code",
   "execution_count": 5,
   "metadata": {
    "collapsed": true
   },
   "outputs": [],
   "source": [
    "def is_season(month):\n",
    "    return (month >= 5) & (month <= 7)\n",
    "\n",
    "\n",
    "def rel_hum(tk, tdk):\n",
    "    tc = tk-273.15\n",
    "    tdc = tdk-273.15\n",
    "    e = 0.611*np.exp((17.27*tdc/(237.3+tdc)))\n",
    "    es = 0.611*np.exp((17.27*tc/(237.3+tc)))\n",
    "    #et = 0.611*np.exp((17.27*tdc/(237.3+tdc))\n",
    "    return(100.0*(e/es))\n"
   ]
  },
  {
   "cell_type": "code",
   "execution_count": 8,
   "metadata": {
    "collapsed": true
   },
   "outputs": [],
   "source": [
    "test = map(rel_hum,temp.values, dewp.values)\n",
    "\n",
    "relh = list(test)"
   ]
  },
  {
   "cell_type": "code",
   "execution_count": 8,
   "metadata": {},
   "outputs": [
    {
     "data": {
      "text/plain": [
       "<xarray.DataArray 'time' (time: 1332)>\n",
       "array(['1900-01-01T00:00:00.000000000', '1900-02-01T00:00:00.000000000',\n",
       "       '1900-03-01T00:00:00.000000000', ...,\n",
       "       '2010-10-01T00:00:00.000000000', '2010-11-01T00:00:00.000000000',\n",
       "       '2010-12-01T00:00:00.000000000'], dtype='datetime64[ns]')\n",
       "Coordinates:\n",
       "  * time     (time) datetime64[ns] 1900-01-01 1900-02-01 1900-03-01 ...\n",
       "Attributes:\n",
       "    long_name: time"
      ]
     },
     "execution_count": 8,
     "metadata": {},
     "output_type": "execute_result"
    }
   ],
   "source": [
    "temp.time"
   ]
  },
  {
   "cell_type": "code",
   "execution_count": 9,
   "metadata": {
    "collapsed": true
   },
   "outputs": [],
   "source": [
    "dr_relh = xr.DataArray(relh, coords=[temp.time,temp.latitude,temp.longitude],dims=['time','latitude','longitude'], name='relh')\n"
   ]
  },
  {
   "cell_type": "code",
   "execution_count": 10,
   "metadata": {},
   "outputs": [
    {
     "data": {
      "text/plain": [
       "<xarray.DataArray 'relh' (time: 1332, latitude: 81, longitude: 141)>\n",
       "array([[[ 71.778645,  71.691082, ...,  72.574732,  72.603731],\n",
       "        [ 70.135324,  69.906595, ...,  72.496158,  72.701304],\n",
       "        ..., \n",
       "        [ 73.255406,  73.212582, ...,  75.779179,  76.519096],\n",
       "        [ 72.720059,  72.825968, ...,  76.916851,  77.689491]],\n",
       "\n",
       "       [[ 73.177392,  73.119419, ...,  73.988702,  73.85969 ],\n",
       "        [ 71.868757,  71.753474, ...,  74.48328 ,  74.431852],\n",
       "        ..., \n",
       "        [ 77.097046,  77.648556, ...,  75.949579,  76.188343],\n",
       "        [ 76.244908,  76.899454, ...,  75.967439,  76.306205]],\n",
       "\n",
       "       ..., \n",
       "       [[ 80.642775,  80.635641, ...,  76.67849 ,  76.057057],\n",
       "        [ 78.99395 ,  78.750954, ...,  76.626694,  76.383453],\n",
       "        ..., \n",
       "        [ 71.571497,  71.713734, ...,  71.272099,  71.281134],\n",
       "        [ 71.46202 ,  71.633847, ...,  71.476746,  71.52906 ]],\n",
       "\n",
       "       [[ 75.638158,  75.676654, ...,  80.217603,  79.865978],\n",
       "        [ 73.890843,  73.847787, ...,  81.023936,  80.605804],\n",
       "        ..., \n",
       "        [ 73.663671,  73.695291, ...,  72.486227,  72.967985],\n",
       "        [ 73.147605,  73.173857, ...,  72.262655,  72.765795]]])\n",
       "Coordinates:\n",
       "  * time       (time) datetime64[ns] 1900-01-01 1900-02-01 1900-03-01 ...\n",
       "  * latitude   (latitude) float32 70.0 69.5 69.0 68.5 68.0 67.5 67.0 66.5 ...\n",
       "  * longitude  (longitude) float32 230.0 230.5 231.0 231.5 232.0 232.5 233.0 ..."
      ]
     },
     "execution_count": 10,
     "metadata": {},
     "output_type": "execute_result"
    }
   ],
   "source": [
    "dr_relh"
   ]
  },
  {
   "cell_type": "code",
   "execution_count": 11,
   "metadata": {},
   "outputs": [
    {
     "data": {
      "text/plain": [
       "('time', 'latitude', 'longitude')"
      ]
     },
     "execution_count": 11,
     "metadata": {},
     "output_type": "execute_result"
    }
   ],
   "source": [
    "dr_relh.dims"
   ]
  },
  {
   "cell_type": "code",
   "execution_count": null,
   "metadata": {
    "collapsed": true
   },
   "outputs": [],
   "source": [
    "\n",
    "dr_relh[0,0,0]"
   ]
  },
  {
   "cell_type": "code",
   "execution_count": null,
   "metadata": {
    "collapsed": true
   },
   "outputs": [],
   "source": [
    "test_4"
   ]
  },
  {
   "cell_type": "code",
   "execution_count": 11,
   "metadata": {
    "collapsed": true
   },
   "outputs": [],
   "source": [
    "relh_1950=dr_relh.sel(time=slice(start_year,end_year))\n",
    "#season_1950 = temp_1950.sel(time=temp_1950['time.month']==t_months)\n",
    "season_1950 = relh_1950.sel(time=is_season(relh_1950['time.month']))\n",
    "jja_1950 = season_1950.groupby('time.year').mean(dim='time')\n",
    "\n",
    "clim_30= dr_relh.sel(time=slice('1981-01-01','2010-12-01'))\n",
    "clim_months_30 = clim_30.sel(time=is_season(clim_30['time.month']))\n",
    "jja_30 = clim_months_30.mean(dim='time')"
   ]
  },
  {
   "cell_type": "code",
   "execution_count": null,
   "metadata": {
    "collapsed": true
   },
   "outputs": [],
   "source": [
    "jja_30"
   ]
  },
  {
   "cell_type": "code",
   "execution_count": 12,
   "metadata": {
    "collapsed": true
   },
   "outputs": [],
   "source": [
    "spatial_trend = dr_relh.isel(time=1).copy(deep=True)\n",
    "#pvalues= temp.isel(time=1).copy(deep=True)"
   ]
  },
  {
   "cell_type": "code",
   "execution_count": 19,
   "metadata": {},
   "outputs": [
    {
     "data": {
      "text/plain": [
       "<xarray.DataArray 'relh' (latitude: 81, longitude: 141)>\n",
       "array([[-0.197802, -0.201771, -0.192748, ...,  0.216409,  0.195946,  0.17532 ],\n",
       "       [-0.627539, -0.566583, -0.502657, ...,  0.210983,  0.184758,  0.15784 ],\n",
       "       [-0.681145, -0.613489, -0.544181, ...,  0.207146,  0.173359,  0.139543],\n",
       "       ..., \n",
       "       [ 0.165646,  0.178943,  0.171214, ...,  0.140091,  0.12171 ,  0.103555],\n",
       "       [ 0.167293,  0.168342,  0.16432 , ...,  0.096964,  0.086948,  0.077056],\n",
       "       [ 0.166618,  0.145861,  0.144674, ...,  0.03871 ,  0.044623,  0.051101]])\n",
       "Coordinates:\n",
       "    time       datetime64[ns] 1900-02-01\n",
       "  * latitude   (latitude) float32 70.0 69.5 69.0 68.5 68.0 67.5 67.0 66.5 ...\n",
       "  * longitude  (longitude) float32 230.0 230.5 231.0 231.5 232.0 232.5 233.0 ..."
      ]
     },
     "execution_count": 19,
     "metadata": {},
     "output_type": "execute_result"
    }
   ],
   "source": [
    "spatial_trend"
   ]
  },
  {
   "cell_type": "code",
   "execution_count": 13,
   "metadata": {
    "collapsed": true
   },
   "outputs": [],
   "source": [
    "for i in np.arange(0,len(dr_relh['latitude'])):\n",
    "    for j in np.arange(0,len(dr_relh['longitude'])):\n",
    "        series = jja_1950[:,i,j]\n",
    "        anom = series-jja_30[i,j]\n",
    "        slope, intercept, r_value, p_value, std_err = stats.linregress(np.arange(0,len(anom)),anom)\n",
    "        spatial_trend[i,j]=slope*10\n",
    "        #pvalues[i,j]=p_value\n",
    "        #print(i)\n"
   ]
  },
  {
   "cell_type": "code",
   "execution_count": null,
   "metadata": {
    "collapsed": true
   },
   "outputs": [],
   "source": [
    "#spatial_trend.to_dataset().to_netcdf(data_dir+'spatial_trends_temp_'+t_season+'_'+start_year+'mtwb'+'.nc')"
   ]
  },
  {
   "cell_type": "code",
   "execution_count": 20,
   "metadata": {},
   "outputs": [
    {
     "data": {
      "image/png": "[encoded data removed]",
      "text/plain": [
       "<matplotlib.figure.Figure at 0x1179ef128>"
      ]
     },
     "metadata": {},
     "output_type": "display_data"
    }
   ],
   "source": [
    "fig, ax = plt.subplots();\n",
    "proj = ccrs.AlbersEqualArea(central_longitude=-111.0,central_latitude=46.0,false_easting=0.0, false_northing=0.0, standard_parallels=(40.0, 50.0), globe=None)\n",
    "ax = plt.axes(projection=ccrs.AlbersEqualArea(central_longitude=-111.0,central_latitude=46.0,false_easting=0.0, false_northing=0.0, standard_parallels=(40.0, 50.0), globe=None))\n",
    "ax.set_global()\n",
    "spatial_trend.plot.pcolormesh(axes = ax,transform = proj ,vmin=-1, vmax=1, cmap='RdBu')\n",
    "#ax = plt.axes(projection=ccrs.LambertConformal())\n",
    "\n",
    "ax.set_extent([ext_e, ext_w, ext_s, ext_n])\n",
    "states_provinces = cfeature.NaturalEarthFeature(\n",
    "    category='cultural',\n",
    "    name='admin_1_states_provinces_lines',\n",
    "    scale='50m',\n",
    "    facecolor='none')\n",
    "ax.add_feature(states_provinces, edgecolor='gray')\n",
    "ax.add_feature(cfeature.COASTLINE)\n",
    "ax.add_feature(cfeature.BORDERS)\n",
    "plt.title('ERA-20C RH Trend 1970-2010 '+t_season,fontsize=24)\n",
    "test.colorbar.set_label('Percent / Decade',fontsize=18)\n",
    "test.colorbar.ax.tick_params(labelsize=14)\n",
    "fig.set_size_inches(13,7)\n",
    "fig.set_dpi=1200.0\n",
    "#plt.savefig('ERA-20C_relh_'+t_season+'_1970.png',bbox_inches='tight')\n",
    "plt.show()"
   ]
  },
  {
   "cell_type": "code",
   "execution_count": null,
   "metadata": {
    "collapsed": true
   },
   "outputs": [],
   "source": [
    "anom_series = jja_1950-jja_30.sel(season=t_season)\n",
    "extent = anom_series.sel(latitude=np.arange(ext_s,ext_n,step=.5))\n",
    "extent = extent.sel(longitude=np.arange(ext_w+360,ext_e+360,step=.5))\n",
    "extent_series = extent.mean(dim=['latitude','longitude'])\n",
    "slope, intercept, r_value, p_value, std_err = stats.linregress(np.arange(0,len(extent_series)),extent_series.values)\n",
    "line = slope*np.arange(0,len(extent_series.values))+intercept\n",
    "\n",
    "\n",
    "\n",
    "fig, ax = plt.subplots();\n",
    "plt.scatter(extent_series['year'],extent_series.values, c=extent_series.values,vmin=-3,vmax=2,cmap='RdBu_r',s=30);\n",
    "#trend = ax.plot(anom['time'],line)\n",
    "base = np.zeros(len(extent_series.values))\n",
    "ax.plot(extent_series['year'],base,c='grey')\n",
    "ax.set_title('North America 2m Temperature Anomaly '+t_season+' 1970-2010')\n",
    "ax.set_xlabel('Year')\n",
    "ax.set_ylabel('Temp Anomaly [C]')\n",
    "trend = ax.plot(extent_series['year'],line)\n",
    "#fig.savefig('2m_temp_anom_'+t_season+'_na_sp_1970.png')\n",
    "\n"
   ]
  },
  {
   "cell_type": "code",
   "execution_count": null,
   "metadata": {
    "collapsed": true
   },
   "outputs": [],
   "source": []
  },
  {
   "cell_type": "code",
   "execution_count": null,
   "metadata": {
    "collapsed": true
   },
   "outputs": [],
   "source": []
  },
  {
   "cell_type": "code",
   "execution_count": null,
   "metadata": {
    "collapsed": true
   },
   "outputs": [],
   "source": []
  },
  {
   "cell_type": "code",
   "execution_count": null,
   "metadata": {
    "collapsed": true
   },
   "outputs": [],
   "source": []
  }
 ],
 "metadata": {
  "anaconda-cloud": {},
  "kernelspec": {
   "display_name": "Python [conda root]",
   "language": "python",
   "name": "conda-root-py"
  },
  "language_info": {
   "codemirror_mode": {
    "name": "ipython",
    "version": 3
   },
   "file_extension": ".py",
   "mimetype": "text/x-python",
   "name": "python",
   "nbconvert_exporter": "python",
   "pygments_lexer": "ipython3",
   "version": "3.5.3"
  }
 },
 "nbformat": 4,
 "nbformat_minor": 1
}
