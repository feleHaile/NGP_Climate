{
 "cells": [
  {
   "cell_type": "code",
   "execution_count": 1,
   "metadata": {},
   "outputs": [],
   "source": [
    "import xarray as xr\n",
    "import pandas as pd\n",
    "import numpy as np\n",
    "import matplotlib.pyplot as plt\n"
   ]
  },
  {
   "cell_type": "code",
   "execution_count": 37,
   "metadata": {},
   "outputs": [],
   "source": [
    "md_precip = xr.open_dataset('/Users/gbromley/data/USC00470273.nc')"
   ]
  },
  {
   "cell_type": "code",
   "execution_count": 38,
   "metadata": {},
   "outputs": [],
   "source": [
    "precip_data = md_precip['precip']"
   ]
  },
  {
   "cell_type": "code",
   "execution_count": 39,
   "metadata": {},
   "outputs": [],
   "source": [
    "data = precip_data.to_pandas()"
   ]
  },
  {
   "cell_type": "code",
   "execution_count": 41,
   "metadata": {},
   "outputs": [
    {
     "data": {
      "text/plain": [
       "index\n",
       "1971-11-01       0.0\n",
       "1971-11-02       0.0\n",
       "1971-11-03     380.0\n",
       "1971-11-04      50.0\n",
       "1971-11-05      30.0\n",
       "1971-11-06     640.0\n",
       "1971-11-07     100.0\n",
       "1971-11-08     130.0\n",
       "1971-11-09       0.0\n",
       "1971-11-10       0.0\n",
       "1971-11-11       0.0\n",
       "1971-11-12       0.0\n",
       "1971-11-13       0.0\n",
       "1971-11-14       0.0\n",
       "1971-11-15       0.0\n",
       "1971-11-16       NaN\n",
       "1971-11-17       NaN\n",
       "1971-11-18       0.0\n",
       "1971-11-19       NaN\n",
       "1971-11-20    1090.0\n",
       "1971-11-21       NaN\n",
       "1971-11-22       NaN\n",
       "1971-11-23       0.0\n",
       "1971-11-24       NaN\n",
       "1971-11-25     230.0\n",
       "1971-11-26       0.0\n",
       "1971-11-27       0.0\n",
       "1971-11-28     460.0\n",
       "1971-11-29       0.0\n",
       "1971-11-30     810.0\n",
       "               ...  \n",
       "2018-08-02       NaN\n",
       "2018-08-03       NaN\n",
       "2018-08-04       NaN\n",
       "2018-08-05       NaN\n",
       "2018-08-06       NaN\n",
       "2018-08-07       0.0\n",
       "2018-08-08       0.0\n",
       "2018-08-09       0.0\n",
       "2018-08-10       0.0\n",
       "2018-08-11       0.0\n",
       "2018-08-12       0.0\n",
       "2018-08-13       0.0\n",
       "2018-08-14    1980.0\n",
       "2018-08-15      30.0\n",
       "2018-08-16       0.0\n",
       "2018-08-17       0.0\n",
       "2018-08-18       NaN\n",
       "2018-08-19       0.0\n",
       "2018-08-20    2790.0\n",
       "2018-08-21    1140.0\n",
       "2018-08-22      50.0\n",
       "2018-08-23       NaN\n",
       "2018-08-24       NaN\n",
       "2018-08-25    1520.0\n",
       "2018-08-26       0.0\n",
       "2018-08-27       0.0\n",
       "2018-08-28       NaN\n",
       "2018-08-29       NaN\n",
       "2018-08-30       NaN\n",
       "2018-08-31      50.0\n",
       "Length: 16623, dtype: float64"
      ]
     },
     "execution_count": 41,
     "metadata": {},
     "output_type": "execute_result"
    }
   ],
   "source": [
    "data"
   ]
  },
  {
   "cell_type": "code",
   "execution_count": 30,
   "metadata": {},
   "outputs": [],
   "source": [
    "data = data * 0.03937"
   ]
  },
  {
   "cell_type": "code",
   "execution_count": 29,
   "metadata": {},
   "outputs": [],
   "source": [
    "data = data/100"
   ]
  },
  {
   "cell_type": "code",
   "execution_count": 31,
   "metadata": {},
   "outputs": [
    {
     "data": {
      "text/plain": [
       "Series([], dtype: float64)"
      ]
     },
     "execution_count": 31,
     "metadata": {},
     "output_type": "execute_result"
    }
   ],
   "source": [
    "data[data > 10] "
   ]
  },
  {
   "cell_type": "code",
   "execution_count": null,
   "metadata": {},
   "outputs": [],
   "source": []
  }
 ],
 "metadata": {
  "kernelspec": {
   "display_name": "Python [conda env:paper1_research]",
   "language": "python",
   "name": "conda-env-paper1_research-py"
  },
  "language_info": {
   "codemirror_mode": {
    "name": "ipython",
    "version": 3
   },
   "file_extension": ".py",
   "mimetype": "text/x-python",
   "name": "python",
   "nbconvert_exporter": "python",
   "pygments_lexer": "ipython3",
   "version": "3.6.4"
  }
 },
 "nbformat": 4,
 "nbformat_minor": 2
}
