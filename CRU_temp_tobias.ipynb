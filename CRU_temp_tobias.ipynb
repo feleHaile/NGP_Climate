{
 "cells": [
  {
   "cell_type": "code",
   "execution_count": 1,
   "metadata": {
    "collapsed": false,
    "deletable": true,
    "editable": true
   },
   "outputs": [],
   "source": [
    "%matplotlib inline\n",
    "import xarray as xr\n",
    "import numpy as np\n",
    "import pandas as pd\n",
    "import seaborn as sns\n",
    "import matplotlib.pyplot as plt\n",
    "import netCDF4\n",
    "from scipy import stats\n",
    "import cartopy.crs as ccrs\n",
    "import cartopy.feature as cfeature\n",
    "import sys\n",
    "from mpl_toolkits.axes_grid1 import make_axes_locatable\n",
    "sys.path.append('/Users/gbromley/code/python_utilities/')\n",
    "from python_data_functions import extract_months\n",
    "from python_met_functions import sat_vap_pres\n",
    "import metpy.calc as mcalc\n",
    "from metpy.units import units"
   ]
  },
  {
   "cell_type": "code",
   "execution_count": 2,
   "metadata": {
    "collapsed": false,
    "deletable": true,
    "editable": true
   },
   "outputs": [],
   "source": [
    "data_dir = '/Users/gbromley/data/CRU/'\n",
    "temp_file = 'tmp/cru_ts3.24.1901.2015.tmp.dat.nc'\n",
    "#vap_file = 'vap/cru_ts3.24.1901.2015.vap.dat.nc'\n",
    "#nc_vap = xr.open_dataset(data_dir+vap_file)\n",
    "nc_temp = xr.open_dataset(data_dir+temp_file)"
   ]
  },
  {
   "cell_type": "code",
   "execution_count": 3,
   "metadata": {
    "collapsed": false,
    "deletable": true,
    "editable": true
   },
   "outputs": [],
   "source": [
    "t2m = nc_temp['tmp']\n"
   ]
  },
  {
   "cell_type": "code",
   "execution_count": null,
   "metadata": {
    "collapsed": false,
    "deletable": true,
    "editable": true
   },
   "outputs": [],
   "source": []
  },
  {
   "cell_type": "code",
   "execution_count": 4,
   "metadata": {
    "collapsed": false,
    "deletable": true,
    "editable": true
   },
   "outputs": [],
   "source": [
    "t_season='MJJAS'\n",
    "t_months=[5,6,7,8,9]\n",
    "start_year = '1970-01-01'\n",
    "end_year = '2010-12-01'\n",
    "ext_e = -100\n",
    "ext_w = -115\n",
    "ext_n = 50\n",
    "ext_s = 42\n",
    "\n",
    "ggw_lat,ggw_lon = 48.18, -106.635"
   ]
  },
  {
   "cell_type": "code",
   "execution_count": 5,
   "metadata": {
    "collapsed": false,
    "deletable": true,
    "editable": true
   },
   "outputs": [],
   "source": [
    "#extract the time period we are interested in\n",
    "t2m_slice=t2m.sel(time=slice(start_year,end_year))\n",
    "#grab the months interested in\n",
    "t2m_months = t2m_slice.sel(time=extract_months(t2m_slice['time.month'],t_months[0],t_months[-1]))\n",
    "#create month averages\n",
    "t2m_months_avg = t2m_months.groupby('time.year').mean(dim='time')\n",
    "\n",
    "#extract the 30 yr climate normal times\n",
    "t2m_clim_30= t2m.sel(time=slice('1981-01-01','2010-12-01'))\n",
    "#grab the months\n",
    "t2m_clim_months_30 = t2m_clim_30.sel(time=extract_months(t2m_clim_30['time.month'],t_months[0],t_months[-1]))\n",
    "#create averages over months for climate normal\n",
    "t2m_clim_months_avg = t2m_clim_months_30.mean(dim='time')"
   ]
  },
  {
   "cell_type": "code",
   "execution_count": null,
   "metadata": {
    "collapsed": false,
    "deletable": true,
    "editable": true
   },
   "outputs": [],
   "source": []
  },
  {
   "cell_type": "code",
   "execution_count": 6,
   "metadata": {
    "collapsed": true,
    "deletable": true,
    "editable": true
   },
   "outputs": [],
   "source": [
    "#create 2d structure to hold slope\n",
    "spatial_trend = t2m.isel(time=1).copy(deep=True)\n",
    "spatial_trend.name = 't2m_trend'\n",
    "spatial_trend.attrs['units'] = 'C per Decade'\n",
    "spatial_trend.attrs['long_name'] = '2 meter temperature trend'\n",
    "\n",
    "#create 2d structure to hold pvalues\n",
    "pvalues= t2m.isel(time=1).copy(deep=True)\n",
    "pvalues.name = 't2m_trend_pvalues'\n",
    "pvalues.attrs['units'] = 'pvalues'\n",
    "pvalues.attrs['long_name'] = '2 meter temperature trend pvalues'"
   ]
  },
  {
   "cell_type": "code",
   "execution_count": 7,
   "metadata": {
    "collapsed": false,
    "deletable": true,
    "editable": true
   },
   "outputs": [],
   "source": [
    "#calculate slope and pvalue for each grid point\n",
    "#replace with a map() call?\n",
    "for i in np.arange(0,len(t2m['lat'])):\n",
    "    for j in np.arange(0,len(t2m['lon'])):\n",
    "        series = t2m_months_avg[:,i,j]\n",
    "        anom = series-t2m_clim_months_avg[i,j]\n",
    "        slope, intercept, r_value, p_value, std_err = stats.linregress(np.arange(0,len(anom)),anom)\n",
    "        spatial_trend[i,j]=slope*10\n",
    "        pvalues[i,j]=p_value\n",
    "        #print(i)"
   ]
  },
  {
   "cell_type": "code",
   "execution_count": 8,
   "metadata": {
    "collapsed": true,
    "deletable": true,
    "editable": true
   },
   "outputs": [],
   "source": [
    "spatial_trend.to_dataset().to_netcdf(data_dir+'CRU_temp_tobias'+t_season+'_'+'1970'+'.nc')"
   ]
  },
  {
   "cell_type": "code",
   "execution_count": 9,
   "metadata": {
    "collapsed": false,
    "deletable": true,
    "editable": true
   },
   "outputs": [
    {
     "data": {
      "text/plain": [
       "<xarray.DataArray 't2m_trend' ()>\n",
       "array(2.533240418118467)\n",
       "Coordinates:\n",
       "    time     datetime64[ns] 1901-02-15"
      ]
     },
     "execution_count": 9,
     "metadata": {},
     "output_type": "execute_result"
    }
   ],
   "source": [
    "spatial_trend.max()\n"
   ]
  },
  {
   "cell_type": "code",
   "execution_count": 10,
   "metadata": {
    "collapsed": true,
    "deletable": true,
    "editable": true
   },
   "outputs": [],
   "source": [
    "anom_series = t2m_months_avg - t2m_clim_months_avg"
   ]
  },
  {
   "cell_type": "code",
   "execution_count": 11,
   "metadata": {
    "collapsed": false,
    "deletable": true,
    "editable": true
   },
   "outputs": [],
   "source": [
    "test_series = anom_series.sel(lat=48.75)\n",
    "test_series = test_series.sel(lon=-106.75)\n",
    "anom_series = test_series\n",
    "slope, intercept, r_value, p_value, std_err = stats.linregress(np.arange(0,len(anom_series)),anom_series.values)\n",
    "line = slope*np.arange(0,len(anom_series.values))+intercept\n",
    "anom_series = anom_series.to_pandas()"
   ]
  },
  {
   "cell_type": "code",
   "execution_count": null,
   "metadata": {
    "collapsed": false,
    "deletable": true,
    "editable": true
   },
   "outputs": [],
   "source": []
  },
  {
   "cell_type": "code",
   "execution_count": null,
   "metadata": {
    "collapsed": false,
    "deletable": true,
    "editable": true
   },
   "outputs": [],
   "source": [
    "fig = plt.figure(figsize=(13,7), dpi=1200.0)\n",
    "projection = ccrs.AlbersEqualArea(central_longitude=-111.0,central_latitude=46.0,false_easting=0.0, false_northing=0.0, standard_parallels=(40.0, 50.0), globe=None)\n",
    "ax1 = plt.subplot(1,1,1, projection = projection)\n",
    "#ax1 = plt.axes(projection=ccrs.AlbersEqualArea(central_longitude=-111.0,central_latitude=46.0,false_easting=0.0, false_northing=0.0, standard_parallels=(40.0, 50.0), globe=None))\n",
    "ax1.set_global()\n",
    "test = spatial_trend.plot.pcolormesh(axes = ax1, transform=ccrs.PlateCarree(),vmin=-0.0013, vmax=0.0013, cmap='RdBu_r',add_colorbar = False)\n",
    "#ax = plt.axes(projection=ccrs.LambertConformal())\n",
    "\n",
    "ax1.set_extent([ext_e, ext_w, ext_s, ext_n])\n",
    "states_provinces = cfeature.NaturalEarthFeature(\n",
    "    category='cultural',\n",
    "    name='admin_1_states_provinces_lines',\n",
    "    scale='50m',\n",
    "    facecolor='none')\n",
    "ax1.add_feature(states_provinces, edgecolor='gray')\n",
    "ax1.add_feature(cfeature.COASTLINE)\n",
    "ax1.add_feature(cfeature.BORDERS)\n",
    "plt.plot(ggw_lon, ggw_lat, axes = ax1, marker='o', markersize = 8, color='black', transform=ccrs.PlateCarree())\n",
    "plt.text(ggw_lon-2, ggw_lat, 'GGW', axes=ax1, color='black', size=8, transform=ccrs.PlateCarree())\n",
    "ax1.title.set_visible(False)\n",
    "cb = plt.colorbar(test, cmap='RdBu_r',fraction=0.035)\n",
    "cb.set_label('Kg/Kg / Decade',fontsize=10)\n",
    "cb.ax.tick_params(labelsize=8)\n",
    "\n",
    "\n",
    "\n",
    "#ax2 = plt.subplot(1,2,2)\n",
    "#anom_series.rolling(window=5).mean().plot(ax=ax2);\n",
    "#anom_series.plot(ax=ax2)\n",
    "#trend = ax.plot(anom_series['time'],line)\n",
    "#base = np.zeros(len(anom_series.values))\n",
    "#ax2.plot(anom_series.index.values,base,c='grey')\n",
    "#ax2.set_title('Temp at GGW'+start_year[0:4]+'-'+end_year[0:4]+' '+t_season)\n",
    "#ax2.set_xlabel('Year')\n",
    "#ax2.set_ylabel('Temperature Anomaly [$^\\circ$C]')\n",
    "#trend = ax2.plot(anom_series.index.values,line)\n",
    "#fig.savefig('CRU Temperature'+start_year[0:4]+'-'+end_year[0:4]+' '+t_season+' TS.png')\n",
    "\n",
    "#fig.set_size_inches(13,7)\n",
    "\n",
    "#fig.set_dpi=1200.0\n",
    "#plt.savefig('Moisture_Paper_Figure_mr'+t_season+'_1970.png',bbox_inches='tight')\n",
    "plt.show()"
   ]
  },
  {
   "cell_type": "code",
   "execution_count": null,
   "metadata": {
    "collapsed": false,
    "deletable": true,
    "editable": true
   },
   "outputs": [],
   "source": [
    "anom_series = t2m_months - t2m_clim_months_avg\n",
    "extent = anom_series.sel(lat=np.arange(ext_s,ext_n,step=.5))\n",
    "extent = extent.sel(lon=np.arange(ext_w+360,ext_e+360,step=.5))\n",
    "extent_series = extent.mean(dim=['lat','lon'])\n",
    "slope, intercept, r_value, p_value, std_err = stats.linregress(np.arange(0,len(extent_series)),extent_series.values)\n",
    "line = slope*np.arange(0,len(extent_series.values))+intercept\n",
    "\n",
    "\n",
    "\n",
    "fig, ax = plt.subplots();\n",
    "plt.scatter(extent_series['year'],extent_series.values, c=extent_series.values,vmin=-3,vmax=2,cmap='RdBu_r',s=30);\n",
    "#trend = ax.plot(anom['time'],line)\n",
    "base = np.zeros(len(extent_series.values))\n",
    "ax.plot(extent_series['year'],base,c='grey')\n",
    "ax.set_title('North America 2m Temperature Anomaly '+t_season+' 1970-2010')\n",
    "ax.set_xlabel('Year')\n",
    "ax.set_ylabel('Temp Anomaly [C]')\n",
    "trend = ax.plot(extent_series['year'],line)\n",
    "#fig.savefig('2m_temp_anom_'+t_season+'_na_sp_1970.png')"
   ]
  },
  {
   "cell_type": "code",
   "execution_count": null,
   "metadata": {
    "collapsed": false,
    "deletable": true,
    "editable": true
   },
   "outputs": [],
   "source": [
    "anom_series"
   ]
  },
  {
   "cell_type": "code",
   "execution_count": null,
   "metadata": {
    "collapsed": false,
    "deletable": true,
    "editable": true
   },
   "outputs": [],
   "source": [
    "import matplotlib\n",
    "matplotlib.matplotlib_fname()"
   ]
  },
  {
   "cell_type": "code",
   "execution_count": null,
   "metadata": {
    "collapsed": true,
    "deletable": true,
    "editable": true
   },
   "outputs": [],
   "source": []
  }
 ],
 "metadata": {
  "anaconda-cloud": {},
  "kernelspec": {
   "display_name": "Python [conda root]",
   "language": "python",
   "name": "conda-root-py"
  },
  "language_info": {
   "codemirror_mode": {
    "name": "ipython",
    "version": 3
   },
   "file_extension": ".py",
   "mimetype": "text/x-python",
   "name": "python",
   "nbconvert_exporter": "python",
   "pygments_lexer": "ipython3",
   "version": "3.5.3"
  }
 },
 "nbformat": 4,
 "nbformat_minor": 0
}
