{
 "cells": [
  {
   "cell_type": "code",
   "execution_count": null,
   "metadata": {
    "collapsed": true
   },
   "outputs": [],
   "source": [
    "import numpy as np\n",
    "import pandas as pd\n",
    "import xarray as xr\n",
    "import glob\n",
    "import shutil\n",
    "import os\n",
    "from ftplib import FTP\n"
   ]
  },
  {
   "cell_type": "code",
   "execution_count": null,
   "metadata": {},
   "outputs": [],
   "source": [
    "data_dir = '/Users/gbromley/data/NGP_Stations/'\n",
    "#station = 'CA004057120'\n",
    "station_info_file = '/Users/gbromley/Dropbox/Montana_Climate_Project/NGP_stations.csv'\n",
    "station_info = pd.read_csv(station_info_file)\n",
    "#temp_ca = pd.read_csv(data_dir+station+'.csv')"
   ]
  },
  {
   "cell_type": "code",
   "execution_count": null,
   "metadata": {},
   "outputs": [],
   "source": [
    "station_info['Station']"
   ]
  },
  {
   "cell_type": "code",
   "execution_count": null,
   "metadata": {},
   "outputs": [],
   "source": [
    "#test = temp_ca.where(temp_ca['3']=='TMAX')\n"
   ]
  },
  {
   "cell_type": "code",
   "execution_count": null,
   "metadata": {},
   "outputs": [],
   "source": [
    "#test = test.dropna(axis=0, how='all')\n"
   ]
  },
  {
   "cell_type": "code",
   "execution_count": null,
   "metadata": {},
   "outputs": [],
   "source": []
  },
  {
   "cell_type": "code",
   "execution_count": null,
   "metadata": {},
   "outputs": [],
   "source": [
    "for index, station in station_info['Station'].iteritems():\n",
    "    try:\n",
    "        stat_data = pd.read_csv(data_dir+station+'.csv')\n",
    "    except Exception:\n",
    "        print(station +' not found')\n",
    "        continue\n",
    "    new_data = np.empty(shape=(len(stat_data['2'])*31,6))\n",
    "    new_data.fill(np.nan)\n",
    "\n",
    "\n",
    "    months=[31,28,31,30,31,30,31,31,30,31,30,31]\n",
    "\n",
    "    day_count = 0\n",
    "    #test = temp_ca.where(temp_ca['3']=='TMAX')\n",
    "    #test = test.dropna(axis=0, how='all')\n",
    "    prev_month = 0\n",
    "    for index, row in stat_data.iterrows():\n",
    "    \n",
    "        month = int(row[3]-1) #accounting for off by 1\n",
    "        num_days = months[month] #get the standard number of days, ignoring leap year\n",
    "    \n",
    "        if prev_month != month:\n",
    "        \n",
    "            new_data[day_count:day_count+num_days,0]= row[2]\n",
    "            new_data[day_count:day_count+num_days,1]= row[3]\n",
    "            new_data[day_count:day_count+num_days,2]= np.arange(1,num_days+1)\n",
    "            if index!=0:\n",
    "                day_count = day_count + num_days\n",
    "    \n",
    "        \n",
    "    \n",
    "    \n",
    "        if row[4]=='TMAX':\n",
    "            new_data[day_count:day_count+num_days,3] = row[5:num_days*4+2:4]/10 # the +2 is to catch the off by 1 error\n",
    "        \n",
    "    \n",
    "        if row[4]=='TMIN':\n",
    "            new_data[day_count:day_count+num_days,4] = row[5:num_days*4+2:4]/10 # the +2 is to catch the off by 1 error\n",
    "        \n",
    "        if row[4]=='PRCP':\n",
    "            new_data[day_count:day_count+num_days,5] = row[5:num_days*4+2:4]/10 # the +2 is to catch the off by 1 error\n",
    "        \n",
    "    \n",
    "        prev_month=month\n",
    "    \n",
    "    \n",
    "    new_data = new_data[~np.isnan(new_data).any(axis=1)]\n",
    "    time_data = (new_data[:,0],new_data[:,1],new_data[:,2])\n",
    "    pd_data = pd.DataFrame(new_data, columns = ['year','month','day','tmax','tmin','precip'])\n",
    "\n",
    "    pd_data = pd_data.set_index(pd.to_datetime(pd_data[['year', 'month', 'day']]))\n",
    "\n",
    "    pd_data = pd_data.drop(['year', 'month', 'day'],axis=1)\n",
    "\n",
    "    pd_data = pd_data.replace(-999.9, value=np.nan)\n",
    "    \n",
    "    nc_version = pd_data.to_xarray()\n",
    "\n",
    "    nc_version.coords['station'] = station\n",
    "\n",
    "\n",
    "\n",
    "    nc_version.to_netcdf(data_dir+'nc_files/'+station+'.nc', mode='w')\n",
    "    \n",
    "    "
   ]
  },
  {
   "cell_type": "code",
   "execution_count": null,
   "metadata": {},
   "outputs": [],
   "source": [
    "new_data"
   ]
  },
  {
   "cell_type": "code",
   "execution_count": null,
   "metadata": {},
   "outputs": [],
   "source": [
    "new_data = new_data[~np.isnan(new_data).any(axis=1)]\n",
    "time_data = (new_data[:,0],new_data[:,1],new_data[:,2])"
   ]
  },
  {
   "cell_type": "code",
   "execution_count": null,
   "metadata": {},
   "outputs": [],
   "source": [
    "time_data"
   ]
  },
  {
   "cell_type": "code",
   "execution_count": null,
   "metadata": {},
   "outputs": [],
   "source": [
    "test2 = pd.DataFrame(new_data, columns = ['year','month','day','tmax','tmin','precip'])\n",
    "\n",
    "test2 = test2.set_index(pd.to_datetime(test2[['year', 'month', 'day']]))\n",
    "\n",
    "test2 = test2.drop(['year', 'month', 'day'],axis=1)\n",
    "\n",
    "test2 = test2.replace(-999.9, value=np.nan)"
   ]
  },
  {
   "cell_type": "code",
   "execution_count": null,
   "metadata": {},
   "outputs": [],
   "source": []
  },
  {
   "cell_type": "code",
   "execution_count": null,
   "metadata": {},
   "outputs": [],
   "source": [
    "\n",
    "ftp = FTP('ftp.ncdc.noaa.gov')\n",
    "ftp.login()\n",
    "ftp.cwd('pub/data/ghcn/daily')\n",
    "ftp.retrbinary('RETR ghcnd-stations.txt', open('ghcnd-stations.txt', 'wb').write)\n",
    "ftp.quit()\n",
    "\n",
    "  # Read in GHCND-D Stations File\n",
    "ghcnd_stnfile='ghcnd-stations.txt'\n",
    "ghcnd_stations= np.genfromtxt(ghcnd_stnfile,delimiter=(11,9,10,7,4,30),dtype=str)\n",
    "station_meta = dict(zip(ghcnd_stations[:,0],ghcnd_stations[:,1:6]))"
   ]
  },
  {
   "cell_type": "code",
   "execution_count": null,
   "metadata": {},
   "outputs": [],
   "source": [
    "station_meta['CA004057120']"
   ]
  },
  {
   "cell_type": "code",
   "execution_count": null,
   "metadata": {},
   "outputs": [],
   "source": []
  },
  {
   "cell_type": "code",
   "execution_count": null,
   "metadata": {},
   "outputs": [],
   "source": [
    "dict(ghcnd_stations[0],ghcnd_stations)"
   ]
  },
  {
   "cell_type": "code",
   "execution_count": null,
   "metadata": {},
   "outputs": [],
   "source": [
    "nc_version = test2.to_xarray()\n",
    "\n",
    "nc_version.coords['station'] = station\n",
    "\n",
    "\n",
    "\n",
    "nc_version.to_netcdf(data_dir+station+'.nc')"
   ]
  },
  {
   "cell_type": "code",
   "execution_count": null,
   "metadata": {},
   "outputs": [],
   "source": []
  }
 ],
 "metadata": {
  "kernelspec": {
   "display_name": "Python 3",
   "language": "python",
   "name": "python3"
  },
  "language_info": {
   "codemirror_mode": {
    "name": "ipython",
    "version": 3
   },
   "file_extension": ".py",
   "mimetype": "text/x-python",
   "name": "python",
   "nbconvert_exporter": "python",
   "pygments_lexer": "ipython3",
   "version": "3.6.4"
  }
 },
 "nbformat": 4,
 "nbformat_minor": 2
}
