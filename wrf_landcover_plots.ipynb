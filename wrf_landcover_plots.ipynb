{
 "cells": [
  {
   "cell_type": "code",
   "execution_count": 2,
   "metadata": {},
   "outputs": [],
   "source": [
    "%matplotlib inline\n",
    "import numpy as np\n",
    "import xarray as xr\n",
    "import matplotlib.pyplot as plt\n",
    "import pandas as pd\n",
    "import cartopy.crs as ccrs\n",
    "import cartopy.feature as cfeature\n",
    "from netCDF4 import Dataset\n",
    "import matplotlib.pyplot as plt\n",
    "from matplotlib.cm import get_cmap\n",
    "import cartopy.crs as crs\n",
    "from cartopy.feature import NaturalEarthFeature\n",
    "\n",
    "import wrf as wrf"
   ]
  },
  {
   "cell_type": "code",
   "execution_count": 3,
   "metadata": {},
   "outputs": [],
   "source": [
    "data_dir=\"/Users/gbromley/usgs_wrf_run/wrfout_d01_2015-05-21_00:00:00\"\n",
    "ncfile = Dataset(data_dir)"
   ]
  },
  {
   "cell_type": "code",
   "execution_count": 4,
   "metadata": {},
   "outputs": [],
   "source": [
    "test = xr.open_dataset('/Users/gbromley/usgs_wrf_run/geo_em.d01.nc')"
   ]
  },
  {
   "cell_type": "code",
   "execution_count": 5,
   "metadata": {},
   "outputs": [
    {
     "data": {
      "text/plain": [
       "<xarray.Dataset>\n",
       "Dimensions:     (Time: 1, land_cat: 24, month: 12, num_urb_params: 132, soil_cat: 16, south_north: 99, south_north_stag: 100, west_east: 99, west_east_stag: 100)\n",
       "Dimensions without coordinates: Time, land_cat, month, num_urb_params, soil_cat, south_north, south_north_stag, west_east, west_east_stag\n",
       "Data variables:\n",
       "    Times       (Time) |S19 b'0000-00-00_00:00:00'\n",
       "    XLAT_M      (Time, south_north, west_east) float32 39.1207 39.1421 ...\n",
       "    XLONG_M     (Time, south_north, west_east) float32 -115.301 -115.093 ...\n",
       "    XLAT_V      (Time, south_north_stag, west_east) float32 39.04 39.0614 ...\n",
       "    XLONG_V     (Time, south_north_stag, west_east) float32 -115.287 ...\n",
       "    XLAT_U      (Time, south_north, west_east_stag) float32 39.1098 39.1315 ...\n",
       "    XLONG_U     (Time, south_north, west_east_stag) float32 -115.405 ...\n",
       "    CLAT        (Time, south_north, west_east) float32 39.1207 39.1421 ...\n",
       "    CLONG       (Time, south_north, west_east) float32 -115.301 -115.093 ...\n",
       "    MAPFAC_M    (Time, south_north, west_east) float32 1.01074 1.01069 ...\n",
       "    MAPFAC_V    (Time, south_north_stag, west_east) float32 1.01094 1.01089 ...\n",
       "    MAPFAC_U    (Time, south_north, west_east_stag) float32 1.01077 1.01071 ...\n",
       "    MAPFAC_MX   (Time, south_north, west_east) float32 1.01074 1.01069 ...\n",
       "    MAPFAC_VX   (Time, south_north_stag, west_east) float32 1.01094 1.01089 ...\n",
       "    MAPFAC_UX   (Time, south_north, west_east_stag) float32 1.01077 1.01071 ...\n",
       "    MAPFAC_MY   (Time, south_north, west_east) float32 1.01074 1.01069 ...\n",
       "    MAPFAC_VY   (Time, south_north_stag, west_east) float32 1.01094 1.01089 ...\n",
       "    MAPFAC_UY   (Time, south_north, west_east_stag) float32 1.01077 1.01071 ...\n",
       "    E           (Time, south_north, west_east) float32 0.000113145 ...\n",
       "    F           (Time, south_north, west_east) float32 9.20186e-05 ...\n",
       "    SINALPHA    (Time, south_north, west_east) float32 0.132771 0.13011 ...\n",
       "    COSALPHA    (Time, south_north, west_east) float32 0.991147 0.9915 ...\n",
       "    LANDMASK    (Time, south_north, west_east) float32 1.0 1.0 1.0 1.0 1.0 ...\n",
       "    XLAT_C      (Time, south_north_stag, west_east_stag) float32 39.0291 ...\n",
       "    XLONG_C     (Time, south_north_stag, west_east_stag) float32 -115.391 ...\n",
       "    SINALPHA_U  (Time, south_north, west_east_stag) float32 0.13407 0.131441 ...\n",
       "    COSALPHA_U  (Time, south_north, west_east_stag) float32 0.990972 ...\n",
       "    SINALPHA_V  (Time, south_north_stag, west_east) float32 0.132586 ...\n",
       "    COSALPHA_V  (Time, south_north_stag, west_east) float32 0.991171 ...\n",
       "    LANDUSEF    (Time, land_cat, south_north, west_east) float32 0.0 0.0 0.0 ...\n",
       "    LU_INDEX    (Time, south_north, west_east) float32 8.0 8.0 8.0 8.0 8.0 ...\n",
       "    HGT_M       (Time, south_north, west_east) float32 2176.14 2058.2 ...\n",
       "    SOILTEMP    (Time, south_north, west_east) float32 292.287 292.308 ...\n",
       "    SOILCTOP    (Time, soil_cat, south_north, west_east) float32 0.0 0.0 0.0 ...\n",
       "    SCT_DOM     (Time, south_north, west_east) float32 6.0 6.0 6.0 6.0 6.0 ...\n",
       "    SOILCBOT    (Time, soil_cat, south_north, west_east) float32 0.0 0.0 0.0 ...\n",
       "    SCB_DOM     (Time, south_north, west_east) float32 6.0 9.0 6.0 6.0 6.0 ...\n",
       "    ALBEDO12M   (Time, month, south_north, west_east) float32 11.1674 ...\n",
       "    GREENFRAC   (Time, month, south_north, west_east) float32 0.215 0.182738 ...\n",
       "    LAI12M      (Time, month, south_north, west_east) float32 0.208237 ...\n",
       "    SNOALB      (Time, south_north, west_east) float32 63.5802 62.1208 ...\n",
       "    SLOPECAT    (Time, south_north, west_east) float32 5.0 5.0 5.0 5.0 5.0 ...\n",
       "    CON         (Time, south_north, west_east) float32 0.51875 0.4 0.80625 ...\n",
       "    VAR         (Time, south_north, west_east) float32 197.49 126.54 233.13 ...\n",
       "    OA1         (Time, south_north, west_east) float32 -0.066775 -0.170325 ...\n",
       "    OA2         (Time, south_north, west_east) float32 -0.035725 -0.0985 ...\n",
       "    OA3         (Time, south_north, west_east) float32 0.010025 -0.0966 ...\n",
       "    OA4         (Time, south_north, west_east) float32 -0.0187 -0.0497 ...\n",
       "    OL1         (Time, south_north, west_east) float32 1.0 1.0 1.0 1.0 1.0 ...\n",
       "    OL2         (Time, south_north, west_east) float32 1.0 1.0 1.0 1.0 1.0 ...\n",
       "    OL3         (Time, south_north, west_east) float32 1.0 1.0 1.0 1.0 1.0 ...\n",
       "    OL4         (Time, south_north, west_east) float32 1.0 1.0 1.0 1.0 1.0 ...\n",
       "    VAR_SSO     (Time, south_north, west_east) float32 19655.3 10519.9 ...\n",
       "    LAKE_DEPTH  (Time, south_north, west_east) float32 10.0 10.0 10.0 10.0 ...\n",
       "    URB_PARAM   (Time, num_urb_params, south_north, west_east) float32 0.0 ...\n",
       "Attributes:\n",
       "    TITLE:                           OUTPUT FROM GEOGRID V3.9.0.1\n",
       "    SIMULATION_START_DATE:           0000-00-00_00:00:00\n",
       "    WEST-EAST_GRID_DIMENSION:        100\n",
       "    SOUTH-NORTH_GRID_DIMENSION:      100\n",
       "    BOTTOM-TOP_GRID_DIMENSION:       0\n",
       "    WEST-EAST_PATCH_START_UNSTAG:    1\n",
       "    WEST-EAST_PATCH_END_UNSTAG:      99\n",
       "    WEST-EAST_PATCH_START_STAG:      1\n",
       "    WEST-EAST_PATCH_END_STAG:        100\n",
       "    SOUTH-NORTH_PATCH_START_UNSTAG:  1\n",
       "    SOUTH-NORTH_PATCH_END_UNSTAG:    99\n",
       "    SOUTH-NORTH_PATCH_START_STAG:    1\n",
       "    SOUTH-NORTH_PATCH_END_STAG:      100\n",
       "    GRIDTYPE:                        C\n",
       "    DX:                              18300.0\n",
       "    DY:                              18300.0\n",
       "    DYN_OPT:                         2\n",
       "    CEN_LAT:                         47.693\n",
       "    CEN_LON:                         -104.985\n",
       "    TRUELAT1:                        47.693\n",
       "    TRUELAT2:                        47.693\n",
       "    MOAD_CEN_LAT:                    47.693\n",
       "    STAND_LON:                       -104.985\n",
       "    POLE_LAT:                        90.0\n",
       "    POLE_LON:                        0.0\n",
       "    corner_lats:                     [ 39.12068558  55.00600815  55.00600815 ...\n",
       "    corner_lons:                     [-115.30108643 -119.00485229  -90.965148...\n",
       "    MAP_PROJ:                        1\n",
       "    MMINLU:                          USGS\n",
       "    NUM_LAND_CAT:                    24\n",
       "    ISWATER:                         16\n",
       "    ISLAKE:                          -1\n",
       "    ISICE:                           24\n",
       "    ISURBAN:                         1\n",
       "    ISOILWATER:                      14\n",
       "    grid_id:                         1\n",
       "    parent_id:                       1\n",
       "    i_parent_start:                  1\n",
       "    j_parent_start:                  1\n",
       "    i_parent_end:                    100\n",
       "    j_parent_end:                    100\n",
       "    parent_grid_ratio:               1\n",
       "    sr_x:                            1\n",
       "    sr_y:                            1\n",
       "    FLAG_MF_XY:                      1\n",
       "    FLAG_LAI12M:                     1\n",
       "    FLAG_LAKE_DEPTH:                 1"
      ]
     },
     "execution_count": 5,
     "metadata": {},
     "output_type": "execute_result"
    }
   ],
   "source": [
    "test"
   ]
  },
  {
   "cell_type": "code",
   "execution_count": null,
   "metadata": {},
   "outputs": [],
   "source": [
    "land_use = data['LU_INDEX']"
   ]
  },
  {
   "cell_type": "code",
   "execution_count": null,
   "metadata": {},
   "outputs": [],
   "source": [
    "land_use = land_use.sel(Time=0)"
   ]
  },
  {
   "cell_type": "code",
   "execution_count": null,
   "metadata": {
    "collapsed": true
   },
   "outputs": [],
   "source": [
    "var='LU_INDEX'"
   ]
  },
  {
   "cell_type": "code",
   "execution_count": null,
   "metadata": {},
   "outputs": [],
   "source": [
    "wrf.extract_vars(data,varnames='LU_INDEX')"
   ]
  },
  {
   "cell_type": "code",
   "execution_count": null,
   "metadata": {},
   "outputs": [],
   "source": [
    "land_use"
   ]
  },
  {
   "cell_type": "code",
   "execution_count": null,
   "metadata": {},
   "outputs": [],
   "source": [
    "\n",
    "# Get the sea level pressure\n",
    "#slp = getvar(data, \"LU_INDEX\")\n",
    "\n",
    "# Smooth the sea level pressure since it tends to be noisy near the mountains\n",
    "#smooth_slp = smooth2d(slp, 3)\n",
    "\n",
    "# Get the latitude and longitude points\n",
    "lats, lons = latlon_coords(data)\n",
    "\n",
    "# Get the cartopy mapping object\n",
    "cart_proj = get_cartopy(data)"
   ]
  },
  {
   "cell_type": "code",
   "execution_count": null,
   "metadata": {},
   "outputs": [],
   "source": [
    "test.plot()"
   ]
  },
  {
   "cell_type": "code",
   "execution_count": null,
   "metadata": {
    "collapsed": true
   },
   "outputs": [],
   "source": [
    "t_sav = test.where(test.values > 0.3)-0.3"
   ]
  },
  {
   "cell_type": "code",
   "execution_count": null,
   "metadata": {
    "collapsed": true
   },
   "outputs": [],
   "source": [
    "t_fal = fallow.where(test.values > 0.3)+0.3"
   ]
  },
  {
   "cell_type": "code",
   "execution_count": null,
   "metadata": {
    "collapsed": true
   },
   "outputs": [],
   "source": [
    "data['LANDUSEF'][0,4,:,:]=t_sav"
   ]
  },
  {
   "cell_type": "code",
   "execution_count": null,
   "metadata": {
    "collapsed": true
   },
   "outputs": [],
   "source": [
    "data['LANDUSEF'][0,19,:,:]=t_fal"
   ]
  },
  {
   "cell_type": "code",
   "execution_count": null,
   "metadata": {},
   "outputs": [],
   "source": [
    "data['LANDUSEF'].sel(land_cat=19).plot()"
   ]
  },
  {
   "cell_type": "code",
   "execution_count": null,
   "metadata": {
    "collapsed": true
   },
   "outputs": [],
   "source": [
    "ext_e = -92\n",
    "ext_w = -120\n",
    "ext_n = 55\n",
    "ext_s = 38"
   ]
  },
  {
   "cell_type": "code",
   "execution_count": null,
   "metadata": {},
   "outputs": [],
   "source": [
    "fig = plt.figure(1,figsize=(13,7), dpi=400.0)\n",
    "#projection = ccrs.LambertConformal(central_longitude=-104.985,central_latitude=47.693,false_easting=0.0, false_northing=0.0, standard_parallels=(47.695, 47.695), globe=None)\n",
    "ax1 = plt.subplot(1,2,1, projection = cart_proj)\n",
    "#ax1 = plt.axes(projection=ccrs.AlbersEqualArea(central_longitude=-111.0,central_latitude=46.0,false_easting=0.0, false_northing=0.0, standard_parallels=(40.0, 50.0), globe=None))\n",
    "#ax1.set_global()\n",
    "plt.pcolormesh(wrf.to_np(lats),wrf.to_np(lons),wrf.to_np(slp), axes=ax1, transform=ccrs.PlateCarree())\n",
    "#ax = plt.axes(projection=ccrs.LambertConformal())\n",
    "#pvals.plot.contourf(axes=ax1,transform=ccrs.PlateCarree(),color='none',edgecolor='black',hatches=\"..\",alpha=0.,add_colorbar = False)\n",
    "ax1.set_extent([ext_e, ext_w, ext_s, ext_n])\n",
    "states_provinces = cfeature.NaturalEarthFeature(\n",
    "    category='cultural',\n",
    "    name='admin_1_states_provinces_lines',\n",
    "    scale='50m',\n",
    "    facecolor='none')\n",
    "ax1.add_feature(states_provinces, edgecolor='lightgray')\n",
    "ax1.add_feature(cfeature.COASTLINE)\n",
    "ax1.add_feature(cfeature.BORDERS)\n",
    "#shape_feature = ShapelyFeature(Reader('/Users/gbromley/Dropbox/Montana_Climate_Project/Study_Area/NEON_Domains.shp').geometries(),crs=ccrs.PlateCarree(), facecolor='none',edgecolor='black')\n",
    "#ax1.add_feature(shape_feature)\n",
    "#plt.plot(ggw_lon, ggw_lat, axes = ax1, marker='o', markersize = 8, color='black', transform=ccrs.PlateCarree())\n",
    "#plt.plot(ftp_lon, ftp_lat, axes = ax1, marker='o', markersize = 8, color='black', transform=ccrs.PlateCarree())\n",
    "#plt.text(ftp_lon+0.5, ftp_lat, 'US-FPe', axes=ax1, color='black', size=8, transform=ccrs.PlateCarree())\n",
    "#plt.text(ggw_lon-2, ggw_lat, 'GGW', axes=ax1, color='black', size=8, transform=ccrs.PlateCarree())\n",
    "ax1.title.set_visible(False)\n",
    "#cb = plt.colorbar(test, cmap='RdBu_r',fraction=0.035)\n",
    "#cb.set_label('$^\\circ$C / Decade',fontsize=10)\n",
    "#cb.ax.tick_params(labelsize=8)\n",
    "#plt.text(0, 1,'a', ha='center', va='center', backgroundcolor='lightgray')\n",
    "#anchored_text = AnchoredText(\"1\", loc=2)\n",
    "#ax1.add_artist(anchored_text)\n",
    "\n",
    "#plt.savefig('CRU_temp_no_sig_trends'+t_season+'_1970.png',bbox_inches='tight')\n",
    "plt.show()"
   ]
  },
  {
   "cell_type": "code",
   "execution_count": null,
   "metadata": {},
   "outputs": [],
   "source": [
    "from netCDF4 import Dataset\n",
    "import matplotlib.pyplot as plt\n",
    "from matplotlib.cm import get_cmap\n",
    "import cartopy.crs as crs\n",
    "from cartopy.feature import NaturalEarthFeature\n",
    "\n",
    "import wrf as wrf\n",
    "\n",
    "# Open the NetCDF file\n",
    "#ncfile = Dataset(data_dir+\"geo_em.d01.nc\")\n"
   ]
  },
  {
   "cell_type": "code",
   "execution_count": null,
   "metadata": {},
   "outputs": [],
   "source": [
    "\n",
    "# Get the sea level pressure\n",
    "slp = wrf.getvar(ncfile,'rh2')\n",
    "\n",
    "# Smooth the sea level pressure since it tends to be noisy near the mountains\n",
    "#smooth_slp = smooth2d(slp, 3)\n",
    "\n",
    "# Get the latitude and longitude points\n",
    "lats, lons = wrf.latlon_coords(slp)\n",
    "\n",
    "# Get the cartopy mapping object\n",
    "cart_proj = wrf.get_cartopy(slp)"
   ]
  },
  {
   "cell_type": "code",
   "execution_count": null,
   "metadata": {},
   "outputs": [],
   "source": []
  },
  {
   "cell_type": "code",
   "execution_count": null,
   "metadata": {},
   "outputs": [],
   "source": [
    "# Create a figure\n",
    "fig = plt.figure(figsize=(12,9))\n",
    "# Set the GeoAxes to the projection used by WRF\n",
    "ax = plt.axes(projection=cart_proj)\n",
    "states = NaturalEarthFeature(category='cultural', scale='50m', facecolor='none',\n",
    "                             name='admin_1_states_provinces_shp')\n",
    "ax.add_feature(states, linewidth=.5)\n",
    "ax.coastlines('50m', linewidth=0.8)\n",
    "\n",
    "plt.pcolormesh(slp,transform=crs.PlateCarree())\n"
   ]
  },
  {
   "cell_type": "code",
   "execution_count": null,
   "metadata": {},
   "outputs": [],
   "source": [
    "\n",
    "# Get the sea level pressure\n",
    "slp = wrf.getvar(ncfile, 'rh2')\n",
    "\n",
    "# Smooth the sea level pressure since it tends to be noisy near the mountains\n",
    "#smooth_slp = smooth2d(slp, 3)\n",
    "\n",
    "# Get the latitude and longitude points\n",
    "lats, lons = wrf.latlon_coords(slp)\n",
    "\n",
    "# Get the cartopy mapping object\n",
    "cart_proj = wrf.get_cartopy(slp)\n",
    "\n",
    "# Create a figure\n",
    "fig = plt.figure(figsize=(12,9))\n",
    "# Set the GeoAxes to the projection used by WRF\n",
    "ax = plt.axes(projection=cart_proj)\n",
    "\n",
    "# Download and add the states and coastlines\n",
    "states = NaturalEarthFeature(category='cultural', scale='50m', facecolor='none',\n",
    "                             name='admin_1_states_provinces_shp')\n",
    "ax.add_feature(states, linewidth=.5)\n",
    "ax.coastlines('50m', linewidth=0.8)\n",
    "\n",
    "# Make the contour outlines and filled contours for the smoothed sea level pressure.\n",
    "plt.contour(to_np(lons), to_np(lats), to_np(slp), 10, colors=\"black\",\n",
    "            transform=crs.PlateCarree())\n",
    "plt.contourf(to_np(lons), to_np(lats), to_np(slp), 10, transform=crs.PlateCarree(),\n",
    "             cmap=get_cmap(\"jet\"))\n",
    "\n",
    "# Add a color bar\n",
    "plt.colorbar(ax=ax, shrink=.62)\n",
    "\n",
    "# Set the map limits.  Not really necessary, but used for demonstration.\n",
    "ax.set_xlim(cartopy_xlim(smooth_slp))\n",
    "ax.set_ylim(cartopy_ylim(smooth_slp))\n",
    "\n",
    "# Add the gridlines\n",
    "ax.gridlines(color=\"black\", linestyle=\"dotted\")\n",
    "\n",
    "#plt.title(\"Sea Level Pressure (hPa)\")\n",
    "\n",
    "plt.show()"
   ]
  },
  {
   "cell_type": "code",
   "execution_count": null,
   "metadata": {
    "collapsed": true
   },
   "outputs": [],
   "source": []
  }
 ],
 "metadata": {
  "anaconda-cloud": {},
  "kernelspec": {
   "display_name": "Python [conda root]",
   "language": "python",
   "name": "conda-root-py"
  },
  "language_info": {
   "codemirror_mode": {
    "name": "ipython",
    "version": 3
   },
   "file_extension": ".py",
   "mimetype": "text/x-python",
   "name": "python",
   "nbconvert_exporter": "python",
   "pygments_lexer": "ipython3",
   "version": "3.5.3"
  }
 },
 "nbformat": 4,
 "nbformat_minor": 2
}
